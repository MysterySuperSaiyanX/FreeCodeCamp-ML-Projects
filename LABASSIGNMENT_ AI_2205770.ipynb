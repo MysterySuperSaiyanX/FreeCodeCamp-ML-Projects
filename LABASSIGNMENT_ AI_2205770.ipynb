{
  "nbformat": 4,
  "nbformat_minor": 0,
  "metadata": {
    "colab": {
      "provenance": [],
      "authorship_tag": "ABX9TyO9/tZ0XdpvEzIJXThfmYKE",
      "include_colab_link": true
    },
    "kernelspec": {
      "name": "python3",
      "display_name": "Python 3"
    },
    "language_info": {
      "name": "python"
    }
  },
  "cells": [
    {
      "cell_type": "markdown",
      "metadata": {
        "id": "view-in-github",
        "colab_type": "text"
      },
      "source": [
        "<a href=\"https://colab.research.google.com/github/MysterySuperSaiyanX/FreeCodeCamp-ML-Projects/blob/main/LABASSIGNMENT_%20AI_2205770.ipynb\" target=\"_parent\"><img src=\"https://colab.research.google.com/assets/colab-badge.svg\" alt=\"Open In Colab\"/></a>"
      ]
    },
    {
      "cell_type": "markdown",
      "source": [
        "#AI Lab 1\n",
        "---\n",
        "\n",
        "Name: Shoham Das\n",
        "\n",
        "Roll Number: 2205770\n",
        "\n",
        "Section: CSE-50\n",
        "\n",
        "Subject: AI Lab\n",
        "\n",
        "\n",
        "---\n",
        "\n"
      ],
      "metadata": {
        "id": "StYCN-dP_8eb"
      }
    },
    {
      "cell_type": "markdown",
      "source": [
        "# Question 1:\n",
        "<font color=\"skyblue\">WAP to implement array/list & perform the following operations:\n",
        "insert(user input), display list, display minimum and maximum</font>"
      ],
      "metadata": {
        "id": "5F_7UdoZ-ryP"
      }
    },
    {
      "cell_type": "code",
      "execution_count": 5,
      "metadata": {
        "colab": {
          "base_uri": "https://localhost:8080/"
        },
        "id": "Zsx8shkb-kk4",
        "outputId": "6313d3ba-6818-434c-e1b8-44f63c14c6ea"
      },
      "outputs": [
        {
          "output_type": "stream",
          "name": "stdout",
          "text": [
            "Enter the number of elements in list: 5\n",
            "Enter the elements of list: \n",
            "1\n",
            "2\n",
            "3\n",
            "4\n",
            "5\n",
            "The list is: \n",
            "[1, 2, 3, 4, 5]\n",
            "Minimum element in the list is:  1\n",
            "Maximum element in the list is:  5\n"
          ]
        }
      ],
      "source": [
        "# WAP to implement array/list & perform the following operations:\n",
        "# insert(user input), display list, display minimum and maximum\n",
        "\n",
        "def inputList(numList):\n",
        "  n = input(\"Enter the number of elements in list: \")\n",
        "  n = int(n)\n",
        "\n",
        "  print(\"Enter the elements of list: \")\n",
        "  for i in range(0, n):\n",
        "      element = int(input())\n",
        "\n",
        "      numList.append(element)\n",
        "\n",
        "def printList(numList):\n",
        "  print(\"The list is: \")\n",
        "  print(numList)\n",
        "\n",
        "def minMax(numList):\n",
        "  max, min = numList[0], numList[0]\n",
        "  for number in numList:\n",
        "      if number > max:\n",
        "          max = number\n",
        "      elif number < min:\n",
        "          min = number\n",
        "\n",
        "  print(\"Minimum element in the list is: \", min)\n",
        "  print(\"Maximum element in the list is: \", max)\n",
        "\n",
        "numbers = []\n",
        "inputList(numbers)\n",
        "printList(numbers)\n",
        "minMax(numbers)"
      ]
    },
    {
      "cell_type": "markdown",
      "source": [
        "\n",
        "\n",
        "---\n",
        "\n"
      ],
      "metadata": {
        "id": "zmDyvfjxBQDF"
      }
    },
    {
      "cell_type": "markdown",
      "source": [
        "# Question 2:\n",
        "<font color=\"skyblue\">WAP to implement array/list & perform the following operations:\n",
        "insert(user input), display, sorting</font>"
      ],
      "metadata": {
        "id": "mNTqZOce-0TW"
      }
    },
    {
      "cell_type": "code",
      "source": [
        "# WAP to implement array/list & perform the following operations:\n",
        "# insert(user input), display, sorting\n",
        "\n",
        "def verifyList(numList):\n",
        "  for number in numList:\n",
        "    if not isinstance(number, int):\n",
        "      return False\n",
        "  return True\n",
        "\n",
        "def inputList(numList):\n",
        "  n = input(\"Enter the number of elements in list: \")\n",
        "  n = int(n)\n",
        "\n",
        "  print(\"Enter the elements of list: \")\n",
        "  for i in range(0, n):\n",
        "      element = int(input())\n",
        "\n",
        "      numList.append(element)\n",
        "\n",
        "def printList(numList):\n",
        "  print(\"The list is: \")\n",
        "  print(numList)\n",
        "\n",
        "def sortList(numList):\n",
        "  for i in range(0, len(numList)):\n",
        "    for j in range(i+1, len(numList)):\n",
        "      if numList[i] > numList[j]:\n",
        "        temp = numList[i]\n",
        "        numList[i] = numList[j]\n",
        "        numList[j] = temp\n",
        "  print(\"The sorted list is: \")\n",
        "  print(numList)\n",
        "\n",
        "numbers = []\n",
        "inputList(numbers)\n",
        "printList(numbers)\n",
        "sortList(numbers)"
      ],
      "metadata": {
        "colab": {
          "base_uri": "https://localhost:8080/"
        },
        "id": "GzFVPvF6-4hB",
        "outputId": "09927e9e-11b6-428e-9519-49904c1bb9e7"
      },
      "execution_count": 4,
      "outputs": [
        {
          "output_type": "stream",
          "name": "stdout",
          "text": [
            "Enter the number of elements in list: 5\n",
            "Enter the elements of list: \n",
            "6\n",
            "5\n",
            "7\n",
            "8\n",
            "8\n",
            "The list is: \n",
            "[6, 5, 7, 8, 8]\n",
            "The sorted list is: \n",
            "[5, 6, 7, 8, 8]\n"
          ]
        }
      ]
    },
    {
      "cell_type": "markdown",
      "source": [
        "\n",
        "\n",
        "---\n",
        "\n"
      ],
      "metadata": {
        "id": "kRNym0gcBNg3"
      }
    },
    {
      "cell_type": "markdown",
      "source": [],
      "metadata": {
        "id": "fiyKgFCABNJx"
      }
    },
    {
      "cell_type": "markdown",
      "source": [
        "# Question 3:\n",
        "<font color=\"skyblue\">WAP to implement stack using list & perform the following operations:\n",
        "\n",
        "PUSH, POP, TOS, Display</font>"
      ],
      "metadata": {
        "id": "Lap-HST0-9ro"
      }
    },
    {
      "cell_type": "code",
      "source": [
        "6# WAP to implement stack using list & perform the following operations:\n",
        "# PUSH, POP, TOS, Display\n",
        "\n",
        "def push(element, stackObj):\n",
        "    stackObj.append(element)\n",
        "    print(\"Element pushed to stack.\")\n",
        "\n",
        "def pop(stackObj):\n",
        "    if not stackObj:\n",
        "        print(\"Stack is empty.\")\n",
        "    else:\n",
        "        element = stackObj.pop()\n",
        "        print(\"Popped element:\", element)\n",
        "\n",
        "def tos(stackObj):\n",
        "    if not stackObj:\n",
        "        print(\"Stack is empty.\")\n",
        "    else:\n",
        "        print(\"Top of stack:\", stackObj[-1])\n",
        "\n",
        "def display(stackObj):\n",
        "    if not stackObj:\n",
        "        print(\"Stack is empty.\")\n",
        "    else:\n",
        "        print(\"Stack elements:\", stackObj)\n",
        "\n",
        "\n",
        "stack = []\n",
        "while True:\n",
        "    print(\"\\nStack Operations:\")\n",
        "    print(\"1. Push\")\n",
        "    print(\"2. Pop\")\n",
        "    print(\"3. TOS\")\n",
        "    print(\"4. Display\")\n",
        "    print(\"5. Exit\")\n",
        "\n",
        "    choice = input(\"Enter your choice (1-5): \")\n",
        "\n",
        "    if choice == '1':\n",
        "        element = int(input(\"Enter element to push: \"))\n",
        "        push(element, stack)\n",
        "    elif choice == '2':\n",
        "        pop(stack)\n",
        "    elif choice == '3':\n",
        "        tos(stack)\n",
        "    elif choice == '4':\n",
        "        display(stack)\n",
        "    elif choice == '5':\n",
        "        break\n",
        "    else:\n",
        "        print(\"Invalid choice. Please try again.\")"
      ],
      "metadata": {
        "colab": {
          "base_uri": "https://localhost:8080/"
        },
        "id": "8ni0XV3K_M1k",
        "outputId": "9e16c29d-0e5f-4463-9457-0750685f8cff"
      },
      "execution_count": 1,
      "outputs": [
        {
          "name": "stdout",
          "output_type": "stream",
          "text": [
            "\n",
            "Stack Operations:\n",
            "1. Push\n",
            "2. Pop\n",
            "3. TOS\n",
            "4. Display\n",
            "5. Exit\n",
            "Enter your choice (1-5): 1\n",
            "Enter element to push: 4\n",
            "Element pushed to stack.\n",
            "\n",
            "Stack Operations:\n",
            "1. Push\n",
            "2. Pop\n",
            "3. TOS\n",
            "4. Display\n",
            "5. Exit\n",
            "Enter your choice (1-5): 5\n"
          ]
        }
      ]
    },
    {
      "cell_type": "markdown",
      "source": [
        "\n",
        "\n",
        "---\n",
        "\n"
      ],
      "metadata": {
        "id": "AbZIt12JBHJt"
      }
    },
    {
      "cell_type": "markdown",
      "source": [
        "# Question 4:\n",
        "<font color=\"skyblue\">WAP to implement queue using list & perform the following operations:\n",
        "\n",
        "enqueue, dequeue, display</font>"
      ],
      "metadata": {
        "id": "76RAXwfe_I_k"
      }
    },
    {
      "cell_type": "code",
      "source": [
        "# WAP to implement queue using list & perform the following operations:\n",
        "# enqueue, dequeue, display\n",
        "\n",
        "def enqueue(element, queueObj):\n",
        "    queueObj.append(element)\n",
        "    print(\"Element enqueued to queue.\")\n",
        "\n",
        "def dequeue(queueObj):\n",
        "    if not queueObj:\n",
        "        print(\"Queue is empty.\")\n",
        "    else:\n",
        "        element = queueObj.pop(0)\n",
        "        print(\"Dequeued element:\", element)\n",
        "\n",
        "def display(queueObj):\n",
        "    if not queueObj:\n",
        "        print(\"Queue is empty.\")\n",
        "    else:\n",
        "        print(\"Queue elements:\", queueObj)\n",
        "\n",
        "\n",
        "queue = []\n",
        "while True:\n",
        "    print(\"\\nQueue Operations:\")\n",
        "    print(\"1. Enqueue\")\n",
        "    print(\"2. Dequeue\")\n",
        "    print(\"3. Display\")\n",
        "    print(\"4. Exit\")\n",
        "\n",
        "    choice = input(\"Enter your choice (1-4): \")\n",
        "\n",
        "    if choice == '1':\n",
        "        element = int(input(\"Enter element to enqueue: \"))\n",
        "        enqueue(element, queue)\n",
        "    elif choice == '2':\n",
        "        dequeue(queue)\n",
        "    elif choice == '3':\n",
        "        display(queue)\n",
        "    elif choice == '4':\n",
        "        break\n",
        "    else:\n",
        "        print(\"Invalid choice. Please try again.\")"
      ],
      "metadata": {
        "colab": {
          "base_uri": "https://localhost:8080/"
        },
        "id": "Ha1jbAFd_hAu",
        "outputId": "b87f05de-5e1b-4182-d88e-4c2d9ab166da"
      },
      "execution_count": 6,
      "outputs": [
        {
          "name": "stdout",
          "output_type": "stream",
          "text": [
            "\n",
            "Queue Operations:\n",
            "1. Enqueue\n",
            "2. Dequeue\n",
            "3. Display\n",
            "4. Exit\n",
            "Enter your choice (1-4): 1\n",
            "Enter element to enqueue: 2\n",
            "Element enqueued to queue.\n",
            "\n",
            "Queue Operations:\n",
            "1. Enqueue\n",
            "2. Dequeue\n",
            "3. Display\n",
            "4. Exit\n",
            "Enter your choice (1-4): 3\n",
            "Queue elements: [2]\n",
            "\n",
            "Queue Operations:\n",
            "1. Enqueue\n",
            "2. Dequeue\n",
            "3. Display\n",
            "4. Exit\n",
            "Enter your choice (1-4): 4\n"
          ]
        }
      ]
    },
    {
      "cell_type": "markdown",
      "source": [
        "\n",
        "\n",
        "---\n",
        "\n"
      ],
      "metadata": {
        "id": "aGxRBejZBKww"
      }
    },
    {
      "cell_type": "markdown",
      "source": [
        "# Question 5:\n",
        "<font color=\"skyblue\">WAP to implement graph using adjacency matrix & adjacency list & perform the following operations:\n",
        "Traverse Graph using BFS, traverse graph using DFS</font>"
      ],
      "metadata": {
        "id": "NqqkhI5p_lft"
      }
    },
    {
      "cell_type": "code",
      "source": [
        "# WAP to implement graph using adjacency matrix & adjacency list & perform the following operations:\n",
        "# Traverse Graph using BFS, traverse graph using DFS\n",
        "\n",
        "class Graph:\n",
        "    def __init__(self, num_vertices):\n",
        "        self.num_vertices = num_vertices\n",
        "        self.adj_matrix = [[0] * num_vertices for _ in range(num_vertices)]\n",
        "        self.adj_list = [[] for _ in range(num_vertices)]\n",
        "\n",
        "    def add_edge(self, u, v): # For undirected graph\n",
        "        self.adj_matrix[u][v] = 1\n",
        "        self.adj_matrix[v][u] = 1\n",
        "        self.adj_list[u].append(v)\n",
        "        self.adj_list[v].append(u)\n",
        "\n",
        "    def bfs(self, start_vertex):\n",
        "        visited = [False] * self.num_vertices\n",
        "        queue = [start_vertex]\n",
        "        visited[start_vertex] = True\n",
        "\n",
        "        while queue:\n",
        "            vertex = queue.pop(0)\n",
        "            print(vertex, end=\" \")\n",
        "\n",
        "            for neighbor in self.adj_list[vertex]:\n",
        "                if not visited[neighbor]:\n",
        "                    queue.append(neighbor)\n",
        "                    visited[neighbor] = True\n",
        "\n",
        "    def dfs(self, start_vertex):\n",
        "        visited = [False] * self.num_vertices\n",
        "\n",
        "        def dfs_recursive(vertex):\n",
        "            visited[vertex] = True\n",
        "            print(vertex, end=\" \")\n",
        "\n",
        "            for neighbor in self.adj_list[vertex]:\n",
        "                if not visited[neighbor]:\n",
        "                    dfs_recursive(neighbor)\n",
        "\n",
        "        dfs_recursive(start_vertex)\n",
        "\n",
        "def main():\n",
        "  graph = Graph(int(input(\"Enter the number of vertices: \")))\n",
        "\n",
        "  while True:\n",
        "    print(\"\\nGraph Operations:\")\n",
        "    print(\"1. Add edge\")\n",
        "    print(\"2. Done\")\n",
        "\n",
        "    choice = input(\"Enter your choice (1-2): \")\n",
        "\n",
        "    if choice == '1':\n",
        "        v1 = int(input(\"Enter edge vertex 1: \"))\n",
        "        v2 = int(input(\"Enter edge vertex 2: \"))\n",
        "        graph.add_edge(v1, v2)\n",
        "    elif choice == '2':\n",
        "        break\n",
        "    else:\n",
        "        print(\"Invalid choice. Please try again.\")\n",
        "\n",
        "  startVertex = int(input(\"\\nEnter the starting vertex: \"))\n",
        "\n",
        "  print(\"\\nBFS Traversal:\")\n",
        "  graph.bfs(startVertex)\n",
        "  print(\"\\nDFS Traversal:\")\n",
        "  graph.dfs(startVertex)\n",
        "\n",
        "main()\n",
        "\n",
        "# Example usage\n",
        "# g = Graph(5)\n",
        "# g.add_edge(0, 1)\n",
        "# g.add_edge(0, 4)\n",
        "# g.add_edge(1, 2)\n",
        "# g.add_edge(1, 3)\n",
        "# g.add_edge(1, 4)\n",
        "# g.add_edge(2, 3)\n",
        "# g.add_edge(3, 4)\n",
        "\n",
        "# print(\"BFS Traversal:\")\n",
        "# g.bfs(0)  # Output: 0 1 4 2 3\n",
        "# print(\"\\nDFS Traversal:\")\n",
        "# g.dfs(0)  # Output: 0 1 2 3 4"
      ],
      "metadata": {
        "colab": {
          "base_uri": "https://localhost:8080/"
        },
        "id": "FBVI-faj_rCq",
        "outputId": "fa1d8bf8-a247-428a-c552-da50307ae730"
      },
      "execution_count": 2,
      "outputs": [
        {
          "output_type": "stream",
          "name": "stdout",
          "text": [
            "Enter the number of vertices: 5\n",
            "\n",
            "Graph Operations:\n",
            "1. Add edge\n",
            "2. Done\n",
            "Enter your choice (1-2): 1\n",
            "Enter edge vertex 1: 3\n",
            "Enter edge vertex 2: 4\n",
            "\n",
            "Graph Operations:\n",
            "1. Add edge\n",
            "2. Done\n",
            "Enter your choice (1-2): 2\n",
            "\n",
            "Enter the starting vertex: 2\n",
            "\n",
            "BFS Traversal:\n",
            "2 \n",
            "DFS Traversal:\n",
            "2 "
          ]
        }
      ]
    }
  ]
}